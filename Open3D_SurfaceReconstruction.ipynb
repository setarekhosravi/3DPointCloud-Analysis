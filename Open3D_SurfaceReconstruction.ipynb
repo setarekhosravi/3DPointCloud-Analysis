{
 "cells": [
  {
   "cell_type": "markdown",
   "id": "b59c8d5b-0993-4ff6-aff4-75081820f947",
   "metadata": {},
   "source": [
    "### Surface Reconstruction and Mesh Creating Open3D"
   ]
  },
  {
   "cell_type": "markdown",
   "id": "3db6b28d-1fe6-4113-ba70-cd017588cbcf",
   "metadata": {},
   "source": [
    "##### Source: MCI Academy Course on 3D Computer Vision \n",
    "##### Instructor: Professor Shohreh Kasaei"
   ]
  },
  {
   "cell_type": "markdown",
   "id": "89188444-93ae-48b4-ad6d-920bf8ed7b49",
   "metadata": {},
   "source": [
    "### Algorithms\n",
    "#### Voronoi Diagram and Delaunay Triangulation\n",
    "Check this [page](https://en.wikipedia.org/wiki/Delaunay_triangulation) on wikipedia."
   ]
  },
  {
   "cell_type": "markdown",
   "id": "f6bb8f8d-2334-4537-a503-20bef82df447",
   "metadata": {},
   "source": [
    "### Surface Reconstruction"
   ]
  },
  {
   "cell_type": "code",
   "execution_count": 3,
   "id": "611780f0-a97c-421f-89a4-e3b1d83929d3",
   "metadata": {},
   "outputs": [],
   "source": [
    "# import libraries\n",
    "import open3d as o3d"
   ]
  },
  {
   "cell_type": "markdown",
   "id": "5d4b9a84-0013-4cd6-aad0-70a80017c46d",
   "metadata": {},
   "source": [
    "#### Load and Show a Mesh"
   ]
  },
  {
   "cell_type": "code",
   "execution_count": 5,
   "id": "ef8c62dc-2ab7-4219-b7a5-6f1d39b7e00c",
   "metadata": {},
   "outputs": [],
   "source": [
    "# load using built-in datasets\n",
    "data = o3d.data.BunnyMesh()"
   ]
  },
  {
   "cell_type": "code",
   "execution_count": 8,
   "id": "eb5e0f0f-bd6e-4dcb-a349-336c1cce15b2",
   "metadata": {},
   "outputs": [
    {
     "data": {
      "text/plain": [
       "TriangleMesh with 35947 points and 69451 triangles."
      ]
     },
     "execution_count": 8,
     "metadata": {},
     "output_type": "execute_result"
    }
   ],
   "source": [
    "# read mesh\n",
    "mesh = o3d.io.read_triangle_mesh(data.path)\n",
    "mesh"
   ]
  },
  {
   "cell_type": "markdown",
   "id": "1b8adc4d-1709-4eb6-bfa6-863416a0dbd5",
   "metadata": {},
   "source": [
    "#### Mesh Methods"
   ]
  },
  {
   "cell_type": "code",
   "execution_count": 9,
   "id": "57c7cad7-f5f5-4b2c-b880-4d65723e0203",
   "metadata": {},
   "outputs": [
    {
     "data": {
      "text/plain": [
       "std::vector<Eigen::Vector3d> with 35947 elements.\n",
       "Use numpy.asarray() to access data."
      ]
     },
     "execution_count": 9,
     "metadata": {},
     "output_type": "execute_result"
    }
   ],
   "source": [
    "mesh.vertices"
   ]
  },
  {
   "cell_type": "code",
   "execution_count": 10,
   "id": "9aa2bbe9-260e-4e96-89b0-7befe997189e",
   "metadata": {},
   "outputs": [
    {
     "data": {
      "text/plain": [
       "std::vector<Eigen::Vector3i> with 69451 elements.\n",
       "Use numpy.asarray() to access data."
      ]
     },
     "execution_count": 10,
     "metadata": {},
     "output_type": "execute_result"
    }
   ],
   "source": [
    "mesh.triangles"
   ]
  },
  {
   "cell_type": "markdown",
   "id": "0bf04ead-55b6-403c-9fba-312d71026412",
   "metadata": {},
   "source": [
    "#### Show Meshes"
   ]
  },
  {
   "cell_type": "code",
   "execution_count": 11,
   "id": "4f05c1ec-98f6-4f70-98c4-d3ff604efeb8",
   "metadata": {},
   "outputs": [],
   "source": [
    "# simply do\n",
    "o3d.visualization.draw_geometries([mesh])"
   ]
  },
  {
   "cell_type": "markdown",
   "id": "8baa147c-4b1c-445d-af0c-7e8f4a6988ff",
   "metadata": {},
   "source": [
    "#### Create Point Cloud from Mesh"
   ]
  },
  {
   "cell_type": "code",
   "execution_count": 13,
   "id": "c607089e-4ccf-453c-9278-243ea01cf1dc",
   "metadata": {},
   "outputs": [],
   "source": [
    "mesh.compute_vertex_normals()\n",
    "\n",
    "# sample points\n",
    "pc = mesh.sample_points_poisson_disk(10000)\n",
    "\n",
    "# show pcs\n",
    "o3d.visualization.draw_geometries([pc])"
   ]
  },
  {
   "cell_type": "markdown",
   "id": "95c69e55-e6cb-4f9f-a164-949f93f8518a",
   "metadata": {},
   "source": [
    "#### Created Point Cloud\n",
    "\n",
    "![open3d interactive window](Images/createdPC-from-mesh.png)"
   ]
  },
  {
   "cell_type": "markdown",
   "id": "03d86d0f-dc1b-4da6-a0a4-e706f87d56b5",
   "metadata": {},
   "source": [
    "#### Create Mesh from Point Cloud"
   ]
  },
  {
   "cell_type": "code",
   "execution_count": 28,
   "id": "debcf71f-1acf-4467-8e64-8471721e03d8",
   "metadata": {},
   "outputs": [],
   "source": [
    "# you can use different algorithms\n",
    "tri_mesh = o3d.geometry.TriangleMesh.create_from_point_cloud_alpha_shape(pc, 0.015)"
   ]
  },
  {
   "cell_type": "code",
   "execution_count": 33,
   "id": "80f85738-e2f4-4965-a150-ac85f694d0e9",
   "metadata": {},
   "outputs": [],
   "source": [
    "o3d.visualization.draw_geometries([tri_mesh])"
   ]
  },
  {
   "cell_type": "markdown",
   "id": "2c413fc9-a0ef-4a45-9a47-690c20be5c69",
   "metadata": {},
   "source": [
    "#### Created Mesh\n",
    "\n",
    "![open3d interactive window](Images/createdMesh1.png)"
   ]
  },
  {
   "cell_type": "markdown",
   "id": "9516f354-902d-43b6-95da-790d46c2a981",
   "metadata": {},
   "source": [
    "#### Create Mesh using Ball Pivoting Algorithm"
   ]
  },
  {
   "cell_type": "markdown",
   "id": "8297d513-dd27-427c-b96c-c4d40677cb4a",
   "metadata": {},
   "source": [
    "Check the official paper [Here](http://mesh.brown.edu/taubin/pdfs/bernardini-etal-tvcg99.pdf)."
   ]
  },
  {
   "cell_type": "code",
   "execution_count": 34,
   "id": "9714c819-8afe-4888-acc5-be3b3b4b5e3c",
   "metadata": {},
   "outputs": [],
   "source": [
    "radii = [0.005, 0.01, 0.02, 0.04]\n",
    "bp_mesh = o3d.geometry.TriangleMesh.create_from_point_cloud_ball_pivoting(pc, \n",
    "                                                                          o3d.utility.DoubleVector(radii))\n",
    "\n",
    "# show the mesh\n",
    "o3d.visualization.draw_geometries([bp_mesh])"
   ]
  },
  {
   "cell_type": "markdown",
   "id": "9e4e2486-620f-4ea9-a5da-6a0e9c7b2a60",
   "metadata": {},
   "source": [
    "#### Created Mesh\n",
    "\n",
    "![open3d interactive window](Images/createdMesh2.png)"
   ]
  },
  {
   "cell_type": "markdown",
   "id": "bc02415d-715e-4a10-a826-e59596d2cc14",
   "metadata": {},
   "source": [
    "#### Create Mesh using Poisson Surface Reconstruction Algorithm"
   ]
  },
  {
   "cell_type": "markdown",
   "id": "a9b71a39-242c-4733-a2d6-399b5f62ba80",
   "metadata": {},
   "source": [
    "Check the official paper [Here](https://hhoppe.com/poissonrecon.pdf)."
   ]
  },
  {
   "cell_type": "code",
   "execution_count": 35,
   "id": "6e6c81f2-bcc3-4dc6-ad91-87efbf5fe0f6",
   "metadata": {},
   "outputs": [],
   "source": [
    "p_mesh, _ = o3d.geometry.TriangleMesh.create_from_point_cloud_poisson(pc)\n",
    "\n",
    "# show the mesh\n",
    "o3d.visualization.draw_geometries([p_mesh])"
   ]
  },
  {
   "cell_type": "markdown",
   "id": "61e91440-6eaf-44d1-9d19-edc62ffe736a",
   "metadata": {},
   "source": [
    "#### Created Mesh\n",
    "\n",
    "![open3d interactive window](Images/createdMesh3.png)"
   ]
  },
  {
   "cell_type": "markdown",
   "id": "c0a311d9-b320-45a4-a339-e4bc9f2de477",
   "metadata": {},
   "source": [
    "### Check Open3D Documentations for more information."
   ]
  },
  {
   "cell_type": "markdown",
   "id": "7bdc497a-f02d-42ed-ab5c-39092d17a76e",
   "metadata": {},
   "source": [
    "You can check Open3D official documentations [Here](http://open3d.org/docs/release/tutorial/geometry/surface_reconstruction.html)!"
   ]
  }
 ],
 "metadata": {
  "kernelspec": {
   "display_name": "Python 3 (ipykernel)",
   "language": "python",
   "name": "python3"
  },
  "language_info": {
   "codemirror_mode": {
    "name": "ipython",
    "version": 3
   },
   "file_extension": ".py",
   "mimetype": "text/x-python",
   "name": "python",
   "nbconvert_exporter": "python",
   "pygments_lexer": "ipython3",
   "version": "3.10.13"
  }
 },
 "nbformat": 4,
 "nbformat_minor": 5
}
