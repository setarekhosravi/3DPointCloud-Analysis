{
 "cells": [
  {
   "cell_type": "markdown",
   "id": "c2a6bcc0-a215-4ec3-8479-28e9f7a9c566",
   "metadata": {},
   "source": [
    "### Introduction to 3d Point Cloud Analysis using Open3D"
   ]
  },
  {
   "cell_type": "markdown",
   "id": "fdf11ec5-2f60-4062-a0ca-8684edbeb012",
   "metadata": {},
   "source": [
    "##### Source: MCI Academy Course on 3D Computer Vision "
   ]
  },
  {
   "cell_type": "markdown",
   "id": "100d3d09-049d-4b36-a490-ac35defa148b",
   "metadata": {},
   "source": [
    "##### Instructor: Professor Shohreh Kasaei"
   ]
  },
  {
   "cell_type": "markdown",
   "id": "c98e706d-4ac9-4798-9a48-a37f1cea4e17",
   "metadata": {},
   "source": [
    "### Import Library"
   ]
  },
  {
   "cell_type": "code",
   "execution_count": 3,
   "id": "76786a07-270a-4793-90ce-338a3d35bbf3",
   "metadata": {},
   "outputs": [
    {
     "name": "stdout",
     "output_type": "stream",
     "text": [
      "Jupyter environment detected. Enabling Open3D WebVisualizer.\n",
      "[Open3D INFO] WebRTC GUI backend enabled.\n",
      "[Open3D INFO] WebRTCWindowSystem: HTTP handshake server disabled.\n"
     ]
    }
   ],
   "source": [
    "import open3d as o3d"
   ]
  },
  {
   "cell_type": "markdown",
   "id": "29b4051d-8b9f-49c3-918f-655e4095b559",
   "metadata": {},
   "source": [
    "### Basic Functions"
   ]
  },
  {
   "cell_type": "code",
   "execution_count": 4,
   "id": "bc3071b1-c78d-4ece-a055-d353ccdcd506",
   "metadata": {},
   "outputs": [],
   "source": [
    "# read point cloud\n"
   ]
  },
  {
   "cell_type": "code",
   "execution_count": null,
   "id": "b2edf2da-1953-4d2a-b344-494cd4036956",
   "metadata": {},
   "outputs": [],
   "source": []
  }
 ],
 "metadata": {
  "kernelspec": {
   "display_name": "Python 3 (ipykernel)",
   "language": "python",
   "name": "python3"
  },
  "language_info": {
   "codemirror_mode": {
    "name": "ipython",
    "version": 3
   },
   "file_extension": ".py",
   "mimetype": "text/x-python",
   "name": "python",
   "nbconvert_exporter": "python",
   "pygments_lexer": "ipython3",
   "version": "3.10.13"
  }
 },
 "nbformat": 4,
 "nbformat_minor": 5
}
